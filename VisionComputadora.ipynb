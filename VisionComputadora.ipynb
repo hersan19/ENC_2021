{
  "nbformat": 4,
  "nbformat_minor": 0,
  "metadata": {
    "colab": {
      "name": "CV.ipynb",
      "provenance": [],
      "collapsed_sections": []
    },
    "kernelspec": {
      "name": "python3",
      "display_name": "Python 3"
    },
    "language_info": {
      "name": "python"
    }
  },
  "cells": [
    {
      "cell_type": "markdown",
      "metadata": {
        "id": "h64T6pDETrsy"
      },
      "source": [
        "**1. Bibliotecas**"
      ]
    },
    {
      "cell_type": "code",
      "metadata": {
        "id": "t3G_leNoTmoz"
      },
      "source": [
        "import numpy as np\n",
        "import cv2 as cv\n",
        "from matplotlib import pyplot as plt\n",
        "!pip install -q mediapy\n",
        "import mediapy as media"
      ],
      "execution_count": 43,
      "outputs": []
    },
    {
      "cell_type": "markdown",
      "metadata": {
        "id": "nVn8-p1s3TkM"
      },
      "source": [
        "**2. Leer imagen**"
      ]
    },
    {
      "cell_type": "code",
      "metadata": {
        "id": "XGA8e_veRJzc"
      },
      "source": [
        "img = media.read_image('https://raw.githubusercontent.com/opencv/opencv/master/samples/data/butterfly.jpg')\n",
        "img = cv.cvtColor(img, cv.COLOR_BGR2GRAY)"
      ],
      "execution_count": 18,
      "outputs": []
    },
    {
      "cell_type": "markdown",
      "metadata": {
        "id": "9Bw3dwM-WfI0"
      },
      "source": [
        "3. Filtros lineales"
      ]
    },
    {
      "cell_type": "code",
      "metadata": {
        "id": "8rxjgs8fWO-v"
      },
      "source": [
        "kernel_identidad = np.array([[0,0,0], \n",
        "                             [0,1,0], \n",
        "                             [0,0,0]])\n",
        "display(kernel_identidad)\n",
        "outputid = cv.filter2D(img, -1, kernel_identidad)\n",
        "comparativa = np.concatenate((img, outputid), axis=1) \n",
        "plt.imshow(comparativa, cmap='gray')\n",
        "plt.title('Imagen original y filtro identidad')\n",
        "plt.show()"
      ],
      "execution_count": null,
      "outputs": []
    },
    {
      "cell_type": "code",
      "metadata": {
        "id": "7zpVCXQ5qENv"
      },
      "source": [
        "kernel_3x3 = np.ones((3,3), np.float32) / 9.0\n",
        "display(kernel_3x3)\n",
        "kernel_5x5 = np.ones((5,5),np.float32) / 25.0\n",
        "kernel_7x7 = np.ones((7,7), np.float32) / 49.0"
      ],
      "execution_count": null,
      "outputs": []
    },
    {
      "cell_type": "code",
      "metadata": {
        "id": "aKD6XwFhWjnX"
      },
      "source": [
        "output3x3 = cv.filter2D(img, -1, kernel_3x3)\n",
        "output5x5 = cv.filter2D(img, -1, kernel_5x5)\n",
        "output7x7 = cv.filter2D(img, -1, kernel_7x7)\n",
        "\n",
        "plt.subplot(2,2,1),plt.imshow(img, cmap='gray'), plt.title('Imagen original')\n",
        "plt.xticks([]), plt.yticks([])\n",
        "plt.subplot(2,2,2),plt.imshow(output3x3, cmap='gray'), plt.title('Imagen salida filtro 3x3')\n",
        "plt.xticks([]), plt.yticks([])\n",
        "plt.subplot(2,2,3),plt.imshow(output5x5, cmap='gray'), plt.title('Imagen salida filtro 5x5')\n",
        "plt.xticks([]), plt.yticks([])\n",
        "plt.subplot(2,2,4),plt.imshow(output7x7, cmap='gray'), plt.title('Imagen salida filtro 7x7')\n",
        "plt.xticks([]), plt.yticks([])\n",
        "plt.show()"
      ],
      "execution_count": null,
      "outputs": []
    },
    {
      "cell_type": "code",
      "metadata": {
        "id": "Dt-u8hA7bxuC"
      },
      "source": [
        "from skimage.util import random_noise\n",
        "img_ruido = random_noise(img, mode='gaussian')\n",
        "\n",
        "plt.imshow(img_ruido, cmap='gray')\n",
        "plt.show()\n",
        "\n",
        "blurred = cv.GaussianBlur(img_ruido, (5, 5), 3)\n",
        "plt.imshow(blurred, cmap='gray')\n",
        "plt.title('Imagen salida filtro gaussiano')\n",
        "plt.show()"
      ],
      "execution_count": null,
      "outputs": []
    },
    {
      "cell_type": "markdown",
      "metadata": {
        "id": "nOIExx0U9Tqm"
      },
      "source": [
        "4. Filtros no lineales\n",
        "- Mediana\n",
        "- Máximo\n",
        "- Mínimo\n"
      ]
    },
    {
      "cell_type": "code",
      "metadata": {
        "id": "LGCW81evpBDZ"
      },
      "source": [
        "img = media.read_image('https://raw.githubusercontent.com/opencv/opencv/master/samples/data/blox.jpg')\n",
        "img = cv.cvtColor(img, cv.COLOR_BGR2GRAY)\n",
        "from skimage.util import random_noise\n",
        "\n",
        "img_ruido = random_noise(img, mode='s&p')\n",
        "img_ruido = cv.normalize(img_ruido, None, 0, 255, cv.NORM_MINMAX, cv.CV_8U)\n",
        "\n",
        "plt.imshow(img_ruido, cmap='gray')\n",
        "plt.show()\n",
        "\n",
        "\n",
        "mediana = cv.medianBlur(img_ruido, 3)\n",
        "gaussiana = cv.GaussianBlur(img_ruido, (3,3), 0)\n",
        "\n",
        "comparativa = np.concatenate((mediana, gaussiana), axis=1) \n",
        "plt.imshow(comparativa, cmap='gray')\n",
        "plt.title('Filtro de mediana y gaussiano')\n",
        "plt.show()\n"
      ],
      "execution_count": null,
      "outputs": []
    },
    {
      "cell_type": "markdown",
      "metadata": {
        "id": "k6ioKFpqSr8B"
      },
      "source": [
        "Ejercicio: Aplica el filtro kernel_7x7 a la anterior imagen con ruido (img_ruido), la imagen resultante debes compararla con las imágenes mediana y gaussiana."
      ]
    },
    {
      "cell_type": "code",
      "metadata": {
        "id": "8A6rlaqnV81D"
      },
      "source": [
        ""
      ],
      "execution_count": null,
      "outputs": []
    },
    {
      "cell_type": "code",
      "metadata": {
        "id": "UBu90StxWqiC"
      },
      "source": [
        "img = media.read_image('https://raw.githubusercontent.com/opencv/opencv/master/samples/data/LinuxLogo.jpg')\n",
        "#img = cv.bitwise_not(img)\n",
        "plt.imshow(img, cmap='gray')\n",
        "plt.show()\n",
        "\n",
        "kernel = cv.getStructuringElement(cv.MORPH_RECT, (7,7))\n",
        "\n",
        "imgMax= cv.dilate(img, kernel) # Máximo\n",
        "plt.figure(figsize=(8, 6))\n",
        "plt.imshow(imgMax, cmap='gray')\n",
        "plt.title('Dilatación')\n",
        "plt.show()\n",
        "\n",
        "imgMin = cv.erode(img, kernel) # Mínimo\n",
        "plt.figure(figsize=(8, 6))\n",
        "plt.imshow(imgMin, cmap='gray')\n",
        "plt.title('Erosión')\n",
        "plt.show()\n"
      ],
      "execution_count": null,
      "outputs": []
    },
    {
      "cell_type": "markdown",
      "metadata": {
        "id": "rDmh0NJA1J3R"
      },
      "source": [
        "5. Filtros detectores de bordes"
      ]
    },
    {
      "cell_type": "code",
      "metadata": {
        "id": "uRWsFLmnBvzF"
      },
      "source": [
        "img = media.read_image('https://raw.githubusercontent.com/opencv/opencv/master/samples/data/lena.jpg')\n",
        "img = cv.cvtColor(img, cv.COLOR_BGR2GRAY)"
      ],
      "execution_count": 56,
      "outputs": []
    },
    {
      "cell_type": "code",
      "metadata": {
        "id": "PC5kJfzmEOE5"
      },
      "source": [
        "roberts_vertical = np.array( [[ 0, 0, 0 ],\n",
        "                              [ 0, 1, 0 ],\n",
        "                              [ 0, 0,-1 ]])\n",
        "roberts_horizontal = np.array( [[ 0, 0, 0 ],\n",
        "                                [ 0, 0, 1 ],\n",
        "                                [ 0,-1, 0 ]])\n",
        "\n",
        "img_roberts_x = cv.filter2D(img, -1, roberts_vertical)\n",
        "img_roberts_y = cv.filter2D(img, -1, roberts_horizontal)\n",
        "\n",
        "plt.subplot(2,2,1),plt.imshow(img, cmap = 'gray')\n",
        "plt.title('Original'), plt.xticks([]), plt.yticks([])\n",
        "plt.subplot(2,2,2),plt.imshow(img_roberts_x + img_roberts_y, cmap = 'gray')\n",
        "plt.title('Roberts'), plt.xticks([]), plt.yticks([])\n",
        "plt.subplot(2,2,3),plt.imshow(img_roberts_x, cmap = 'gray')\n",
        "plt.title('Roberts X'), plt.xticks([]), plt.yticks([])\n",
        "plt.subplot(2,2,4),plt.imshow(img_roberts_y, cmap = 'gray')\n",
        "plt.title('Roberts Y'), plt.xticks([]), plt.yticks([])\n",
        "plt.show()"
      ],
      "execution_count": null,
      "outputs": []
    },
    {
      "cell_type": "code",
      "metadata": {
        "id": "uhP5ewVoUReu"
      },
      "source": [
        "kernelx = np.array([[1,1,1],[0,0,0],[-1,-1,-1]])\n",
        "kernely = np.array([[-1,0,1],[-1,0,1],[-1,0,1]])\n",
        "img_prewittx = cv.filter2D(img, -1, kernelx)\n",
        "img_prewitty = cv.filter2D(img, -1, kernely)\n",
        "\n",
        "plt.subplot(2,2,1),plt.imshow(img, cmap = 'gray')\n",
        "plt.title('Original'), plt.xticks([]), plt.yticks([])\n",
        "plt.subplot(2,2,2),plt.imshow(img_prewittx + img_prewitty, cmap = 'gray')\n",
        "plt.title('Prewitt'), plt.xticks([]), plt.yticks([])\n",
        "plt.subplot(2,2,3),plt.imshow(img_prewittx, cmap = 'gray')\n",
        "plt.title('Prewitt X'), plt.xticks([]), plt.yticks([])\n",
        "plt.subplot(2,2,4),plt.imshow(img_prewitty, cmap = 'gray')\n",
        "plt.title('Prewitt Y'), plt.xticks([]), plt.yticks([])\n",
        "plt.show()"
      ],
      "execution_count": null,
      "outputs": []
    },
    {
      "cell_type": "code",
      "metadata": {
        "id": "7Xy4tP4aS0BX"
      },
      "source": [
        "img_sobel_x = cv.Sobel(img, cv.CV_8U, 1, 0, ksize=3)\n",
        "img_sobel_y = cv.Sobel(img, cv.CV_8U, 0, 1, ksize=3)\n",
        "\n",
        "plt.subplot(2,2,1),plt.imshow(img, cmap = 'gray')\n",
        "plt.title('Original'), plt.xticks([]), plt.yticks([])\n",
        "plt.subplot(2,2,2),plt.imshow(img_sobel_x + img_sobel_y, cmap = 'gray')\n",
        "plt.title('Sobel'), plt.xticks([]), plt.yticks([])\n",
        "plt.subplot(2,2,3),plt.imshow(img_sobel_x, cmap = 'gray')\n",
        "plt.title('Sobel X'), plt.xticks([]), plt.yticks([])\n",
        "plt.subplot(2,2,4),plt.imshow(img_sobel_y, cmap = 'gray')\n",
        "plt.title('Sobel Y'), plt.xticks([]), plt.yticks([])\n",
        "plt.show()\n"
      ],
      "execution_count": null,
      "outputs": []
    },
    {
      "cell_type": "markdown",
      "metadata": {
        "id": "iOdFkBPvAf4U"
      },
      "source": [
        "**Ejercicio**: Realizar la implementación del filtro sobel, los coeficientes son mostrados en la imagen siguiente.\n",
        "Para verificar si tú implementación es correcta, deberas verificarlo apoyandote del siguiente código.\n",
        "display(np.sum(img_sobel_x_funcionOPENCV - img_sobel_x1_TúImplementación))\n",
        "\n",
        "Puedes apoyarte del código implementado del filtro prewitt. \n"
      ]
    },
    {
      "cell_type": "code",
      "metadata": {
        "colab": {
          "base_uri": "https://localhost:8080/",
          "height": 206
        },
        "id": "K_6iI_pZ_D8X",
        "outputId": "806582c1-02b2-4182-d56c-f010eb1bdc2b"
      },
      "source": [
        "sobel = media.read_image('https://homepages.inf.ed.ac.uk/rbf/HIPR2/figs/sobmasks.gif')\n",
        "plt.imshow(sobel)\n",
        "plt.title('Sobel'), plt.xticks([]), plt.yticks([])\n",
        "plt.show()"
      ],
      "execution_count": 57,
      "outputs": [
        {
          "output_type": "display_data",
          "data": {
            "image/png": "[encoded data removed]",
            "text/plain": [
              "<Figure size 432x288 with 1 Axes>"
            ]
          },
          "metadata": {
            "tags": []
          }
        }
      ]
    },
    {
      "cell_type": "code",
      "metadata": {
        "id": "Gyu8H0IO-9cI"
      },
      "source": [
        ""
      ],
      "execution_count": 40,
      "outputs": []
    },
    {
      "cell_type": "code",
      "metadata": {
        "id": "-OCHtg31DGI2"
      },
      "source": [
        "Gaussian = cv.GaussianBlur(img, (3, 3), 3)\n",
        "LoG = cv.Laplacian(Gaussian, cv.CV_8U, ksize=3)\n",
        "\n",
        "plt.subplot(2,2,1),plt.imshow(img, cmap = 'gray')\n",
        "plt.title('Original'), plt.xticks([]), plt.yticks([])\n",
        "plt.subplot(2,2,2),plt.imshow(Gaussian, cmap = 'gray')\n",
        "plt.title('Gaussiano'), plt.xticks([]), plt.yticks([])\n",
        "plt.subplot(2,2,3),plt.imshow(LoG, cmap = 'gray')\n",
        "plt.title('Laplaciano'), plt.xticks([]), plt.yticks([])\n",
        "plt.show()"
      ],
      "execution_count": null,
      "outputs": []
    },
    {
      "cell_type": "markdown",
      "metadata": {
        "id": "5rEoJp7g4Nvs"
      },
      "source": [
        "3. Aplicar filtro de detección de bordes a una imagen previamente suavizada con un kernel de media de 7x7.\n",
        "\n",
        "kernel_7x7 = np.ones((7,7), np.float32) / 49.0\n",
        "\n",
        "El filtro que deben utilizar será el filtro sobel que implementaron en el ejercicio anterior.\n"
      ]
    },
    {
      "cell_type": "code",
      "metadata": {
        "id": "4gJtlf0wROgv"
      },
      "source": [
        ""
      ],
      "execution_count": null,
      "outputs": []
    },
    {
      "cell_type": "markdown",
      "metadata": {
        "id": "VygP8nVIfOBz"
      },
      "source": [
        "Ejercicios extras\n",
        "\n",
        "1. Experimentar cambiando el tamaño del filtro o kernel en cada uno de los ejemplos anteriores.\n",
        "2. Implementar función de convolución.\n"
      ]
    }
  ]
}