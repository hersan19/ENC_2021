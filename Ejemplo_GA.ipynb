{
  "nbformat": 4,
  "nbformat_minor": 0,
  "metadata": {
    "colab": {
      "name": "Ejemplo_GA.ipynb",
      "provenance": [],
      "authorship_tag": "ABX9TyP7xQi5l/3QuFgK3zjpcCux"
    },
    "kernelspec": {
      "name": "python3",
      "display_name": "Python 3"
    },
    "language_info": {
      "name": "python"
    }
  },
  "cells": [
    {
      "cell_type": "code",
      "metadata": {
        "colab": {
          "base_uri": "https://localhost:8080/"
        },
        "id": "UlZccedmogW5",
        "outputId": "d00ecb7f-2206-4554-a9fa-6125d58cfe4b"
      },
      "source": [
        "pip install deap"
      ],
      "execution_count": 1,
      "outputs": [
        {
          "output_type": "stream",
          "text": [
            "Collecting deap\n",
            "  Downloading deap-1.3.1-cp37-cp37m-manylinux_2_5_x86_64.manylinux1_x86_64.manylinux_2_12_x86_64.manylinux2010_x86_64.whl (160 kB)\n",
            "\u001b[?25l\r\u001b[K     |██                              | 10 kB 25.3 MB/s eta 0:00:01\r\u001b[K     |████                            | 20 kB 32.7 MB/s eta 0:00:01\r\u001b[K     |██████                          | 30 kB 39.3 MB/s eta 0:00:01\r\u001b[K     |████████▏                       | 40 kB 43.9 MB/s eta 0:00:01\r\u001b[K     |██████████▏                     | 51 kB 26.7 MB/s eta 0:00:01\r\u001b[K     |████████████▏                   | 61 kB 13.2 MB/s eta 0:00:01\r\u001b[K     |██████████████▎                 | 71 kB 14.8 MB/s eta 0:00:01\r\u001b[K     |████████████████▎               | 81 kB 16.4 MB/s eta 0:00:01\r\u001b[K     |██████████████████▎             | 92 kB 14.4 MB/s eta 0:00:01\r\u001b[K     |████████████████████▍           | 102 kB 15.5 MB/s eta 0:00:01\r\u001b[K     |██████████████████████▍         | 112 kB 15.5 MB/s eta 0:00:01\r\u001b[K     |████████████████████████▍       | 122 kB 15.5 MB/s eta 0:00:01\r\u001b[K     |██████████████████████████▌     | 133 kB 15.5 MB/s eta 0:00:01\r\u001b[K     |████████████████████████████▌   | 143 kB 15.5 MB/s eta 0:00:01\r\u001b[K     |██████████████████████████████▌ | 153 kB 15.5 MB/s eta 0:00:01\r\u001b[K     |████████████████████████████████| 160 kB 15.5 MB/s \n",
            "\u001b[?25hRequirement already satisfied: numpy in /usr/local/lib/python3.7/dist-packages (from deap) (1.19.5)\n",
            "Installing collected packages: deap\n",
            "Successfully installed deap-1.3.1\n"
          ],
          "name": "stdout"
        }
      ]
    },
    {
      "cell_type": "code",
      "metadata": {
        "id": "VBeLPF7p1Mqu"
      },
      "source": [
        "import array\n",
        "import random\n",
        "import json\n",
        "import numpy\n",
        "from deap import algorithms,base,creator,tools\n",
        "import pandas as pd\n",
        "import numpy as np"
      ],
      "execution_count": 52,
      "outputs": []
    },
    {
      "cell_type": "code",
      "metadata": {
        "colab": {
          "base_uri": "https://localhost:8080/"
        },
        "id": "SP1dmVGVskm0",
        "outputId": "d6fafc6b-f11e-49da-d4b7-e224d9bceefe"
      },
      "source": [
        "\n",
        "    \n",
        "import math\n",
        "def Euclidian(X, Y):\n",
        "    return math.sqrt( (float(X[1])-float(Y[1]))**2 + (float(X[0])-float(Y[0]))**2)\n",
        "    \n",
        "def Distances(cities):\n",
        "    r= len(cities)\n",
        "    M=np.zeros((r,r))\n",
        "    for i in range(r-1):\n",
        "        for j in range(i+1, r):\n",
        "            M[i][j] = Euclidian(cities[i], cities[j])\n",
        "            M[j][i]= M[i][j]\n",
        "    return M\n",
        "\n",
        "\n",
        "url=\"https://raw.githubusercontent.com/hersan19/EMC_2021/main/ciudades.csv?token=AMUQEUUNCZHPLVM2N6WHX5DBBKZ4S\"\n",
        "df_ciudades=pd.read_csv(url)\n",
        "datas = list(zip(list(df_ciudades.latitud), list(df_ciudades.longitud)))\n",
        "\n",
        "distance_map =Distances(datas)\n",
        "IND_SIZE = len(datas)\n",
        "\n",
        "  \n",
        "\n",
        "\n",
        "creator.create(\"FitnessMin\", base.Fitness, weights=(-1.0,))\n",
        "creator.create(\"Individual\", array.array, typecode='i', fitness=creator.FitnessMin)\n",
        "\n",
        "toolbox = base.Toolbox()\n",
        "\n",
        "# Attribute generator\n",
        "toolbox.register(\"indices\", random.sample, range(IND_SIZE), IND_SIZE)\n",
        "\n",
        "# Structure initializers\n",
        "toolbox.register(\"individual\", tools.initIterate, creator.Individual, toolbox.indices)\n",
        "toolbox.register(\"population\", tools.initRepeat, list, toolbox.individual)\n",
        "\n",
        "def evalTSP(individual):\n",
        "    distance = distance_map[individual[-1]][individual[0]]\n",
        "    for gene1, gene2 in zip(individual[0:-1], individual[1:]):\n",
        "        distance += distance_map[gene1][gene2]\n",
        "    return distance,\n",
        "\n",
        "toolbox.register(\"mate\", tools.cxPartialyMatched)\n",
        "toolbox.register(\"mutate\", tools.mutShuffleIndexes, indpb=0.05)\n",
        "toolbox.register(\"select\", tools.selTournament, tournsize=3)\n",
        "toolbox.register(\"evaluate\", evalTSP)\n",
        "\n",
        "\n",
        "\n",
        "\n",
        "def main():\n",
        "    random.seed(0)\n",
        "\n",
        "    pop = toolbox.population(n=300)\n",
        "    #print(pop[0])\n",
        "    hof = tools.HallOfFame(1)\n",
        "    stats = tools.Statistics(lambda ind: ind.fitness.values)\n",
        "    stats.register(\"avg\", numpy.mean)\n",
        "    stats.register(\"std\", numpy.std)\n",
        "    stats.register(\"min\", numpy.min)\n",
        "    stats.register(\"max\", numpy.max)\n",
        "    \n",
        "    algorithms.eaSimple(pop, toolbox, 0.7, 0.2, 40, stats=stats, \n",
        "                        halloffame=hof)\n",
        "    \n",
        "    return pop, stats,hof"
      ],
      "execution_count": 59,
      "outputs": [
        {
          "output_type": "stream",
          "text": [
            "/usr/local/lib/python3.7/dist-packages/deap/creator.py:141: RuntimeWarning:\n",
            "\n",
            "A class named 'FitnessMin' has already been created and it will be overwritten. Consider deleting previous creation of that class or rename it.\n",
            "\n",
            "/usr/local/lib/python3.7/dist-packages/deap/creator.py:141: RuntimeWarning:\n",
            "\n",
            "A class named 'Individual' has already been created and it will be overwritten. Consider deleting previous creation of that class or rename it.\n",
            "\n"
          ],
          "name": "stderr"
        }
      ]
    },
    {
      "cell_type": "code",
      "metadata": {
        "colab": {
          "base_uri": "https://localhost:8080/"
        },
        "id": "qPgIHZcC5hBf",
        "outputId": "f180b1e2-eee6-4089-e6a8-7f0d89c8a878"
      },
      "source": [
        "pop,estadisiticas,mejor=main()"
      ],
      "execution_count": 60,
      "outputs": [
        {
          "output_type": "stream",
          "text": [
            "gen\tnevals\tavg   \tstd    \tmin    \tmax   \n",
            "0  \t300   \t262.53\t19.4167\t207.659\t308.95\n",
            "1  \t227   \t253.279\t17.2445\t207.229\t297.471\n",
            "2  \t234   \t248.365\t19.0793\t192.605\t301.532\n",
            "3  \t228   \t242.533\t18.4494\t192.605\t289.514\n",
            "4  \t234   \t240.062\t20.4487\t192.605\t290.102\n",
            "5  \t223   \t237.113\t22.0719\t191.406\t300.485\n",
            "6  \t218   \t234.006\t21.3916\t188.949\t295.464\n",
            "7  \t228   \t233.051\t22.7755\t179.896\t313.708\n",
            "8  \t227   \t229.815\t22.8532\t158.226\t294.347\n",
            "9  \t232   \t228.308\t24.2192\t167.294\t295.782\n",
            "10 \t239   \t227.708\t24.9753\t167.294\t304.37 \n",
            "11 \t227   \t225.987\t22.7565\t157.514\t286.264\n",
            "12 \t233   \t227.615\t24.9113\t157.514\t287.997\n",
            "13 \t223   \t224.028\t26.2923\t173.459\t292.382\n",
            "14 \t220   \t221.372\t26.3977\t173.459\t285.802\n",
            "15 \t228   \t216.605\t25.7027\t160.395\t290.24 \n",
            "16 \t226   \t212.178\t27.7942\t159.977\t288.905\n",
            "17 \t230   \t209.425\t27.701 \t159.977\t289.915\n",
            "18 \t214   \t202.818\t27.2541\t155.324\t301.724\n",
            "19 \t213   \t196.567\t26.7875\t152.068\t299.509\n",
            "20 \t223   \t189.507\t21.0297\t152.068\t284.076\n",
            "21 \t228   \t186.3  \t21.2394\t151.333\t254.066\n",
            "22 \t219   \t179.895\t19.7113\t150.98 \t252.917\n",
            "23 \t228   \t177.898\t22.1532\t142.698\t260.397\n",
            "24 \t226   \t172.197\t17.947 \t142.698\t238.078\n",
            "25 \t228   \t171.184\t19.894 \t141.477\t246.649\n",
            "26 \t228   \t165.364\t17.2432\t137.141\t251.138\n",
            "27 \t209   \t159.44 \t16.0819\t131.026\t243.258\n",
            "28 \t230   \t157.313\t16.4213\t131.026\t235.275\n",
            "29 \t237   \t153.535\t16.0098\t127.477\t218.229\n",
            "30 \t218   \t150.093\t15.1608\t126.471\t226    \n",
            "31 \t220   \t146.276\t16.5422\t126.321\t270.253\n",
            "32 \t225   \t145.011\t18.1376\t122.528\t266.654\n",
            "33 \t238   \t142.075\t16.3867\t122.528\t221.138\n",
            "34 \t206   \t138.578\t14.5719\t122.219\t229.425\n",
            "35 \t223   \t138.509\t16.2692\t120.681\t222.67 \n",
            "36 \t221   \t137.002\t17.1446\t119.052\t225.109\n",
            "37 \t235   \t134.923\t14.6634\t119.052\t217.602\n",
            "38 \t239   \t133.344\t13.3398\t118.352\t195.344\n",
            "39 \t238   \t133.579\t18.3005\t117.118\t265.376\n",
            "40 \t230   \t134.258\t20.4103\t117.118\t244    \n"
          ],
          "name": "stdout"
        }
      ]
    },
    {
      "cell_type": "code",
      "metadata": {
        "colab": {
          "base_uri": "https://localhost:8080/"
        },
        "id": "vRmQ8zOQ7njz",
        "outputId": "e3844e07-8994-4d12-da2c-3ec3cf34f493"
      },
      "source": [
        "mejor[0][:]\n"
      ],
      "execution_count": 106,
      "outputs": [
        {
          "output_type": "execute_result",
          "data": {
            "text/plain": [
              "array('i', [10, 28, 3, 30, 22, 12, 14, 15, 17, 13, 7, 8, 25, 1, 2, 24, 4, 0, 31, 21, 16, 11, 23, 27, 18, 6, 9, 19, 26, 5, 29, 20])"
            ]
          },
          "metadata": {
            "tags": []
          },
          "execution_count": 106
        }
      ]
    },
    {
      "cell_type": "code",
      "metadata": {
        "id": "OOcRP7oaD6Qj"
      },
      "source": [
        "df_ciudades"
      ],
      "execution_count": null,
      "outputs": []
    },
    {
      "cell_type": "code",
      "metadata": {
        "id": "L7YdYLeT8IMg"
      },
      "source": [
        "recorrido=[]\n",
        "for i in range(32):\n",
        "  latitud=df_ciudades.iloc[mejor[0][i]][\"latitud\"]\n",
        "  longitud=df_ciudades.iloc[mejor[0][i]][\"longitud\"]\n",
        "  recorrido.append((latitud,longitud))"
      ],
      "execution_count": 112,
      "outputs": []
    },
    {
      "cell_type": "code",
      "metadata": {
        "colab": {
          "base_uri": "https://localhost:8080/",
          "height": 542
        },
        "id": "EhvYqF-s6PRA",
        "outputId": "0ad31583-ecf2-413a-e167-8161f85f64e1"
      },
      "source": [
        "import plotly.express as px\n",
        "import plotly.graph_objects as go\n",
        "\n",
        "fig=go.Figure()\n",
        "fig.add_trace(go.Scattergeo(\n",
        "    #locations = [\"Mexico\"],\n",
        "    #locationmode = 'country names',\n",
        "    lon=df_ciudades[\"longitud\"],\n",
        "    lat=df_ciudades[\"latitud\"],\n",
        "    hoverinfo=\"text\",\n",
        "    text=df_ciudades[\"ciudad\"],\n",
        "    mode=\"markers\",\n",
        "    marker = dict(size=2,color='rgb(255,0,0)',line=dict(width=3,color='rgba(68,68,0)'))))\n",
        "\n",
        "camino=[]\n",
        "for i in range(32):\n",
        "  fig.add_trace(go.Scattergo(\n",
        "      lon=\n",
        "  ))"
      ],
      "execution_count": 120,
      "outputs": [
        {
          "output_type": "display_data",
          "data": {
            "text/html": [
              "<html>\n",
              "<head><meta charset=\"utf-8\" /></head>\n",
              "<body>\n",
              "    <div>\n",
              "            <script src=\"https://cdnjs.cloudflare.com/ajax/libs/mathjax/2.7.5/MathJax.js?config=TeX-AMS-MML_SVG\"></script><script type=\"text/javascript\">if (window.MathJax) {MathJax.Hub.Config({SVG: {font: \"STIX-Web\"}});}</script>\n",
              "                <script type=\"text/javascript\">window.PlotlyConfig = {MathJaxConfig: 'local'};</script>\n",
              "        <script src=\"https://cdn.plot.ly/plotly-latest.min.js\"></script>    \n",
              "            <div id=\"18d20070-bd52-4357-9b7c-5a640293406f\" class=\"plotly-graph-div\" style=\"height:525px; width:100%;\"></div>\n",
              "            <script type=\"text/javascript\">\n",
              "                \n",
              "                    window.PLOTLYENV=window.PLOTLYENV || {};\n",
              "                    \n",
              "                if (document.getElementById(\"18d20070-bd52-4357-9b7c-5a640293406f\")) {\n",
              "                    Plotly.newPlot(\n",
              "                        '18d20070-bd52-4357-9b7c-5a640293406f',\n",
              "                        [{\"hoverinfo\": \"text\", \"lat\": [21.8823395, 32.6278114, 24.144370000000002, 19.843860600000003, 28.635280600000005, 16.759729399999998, 25.423210100000002, 19.24997, 24.020320899999998, 21.01858, 17.5506, 19.4284706, 20.116970000000002, 20.66682, 19.287860000000002, 19.700779999999998, 18.9261, 21.509510000000002, 25.67507, 17.06542, 19.04334, 20.5880604, 18.514129999999998, 22.149820000000002, 24.79032, 29.1026, 17.98689, 23.74174, 19.31905, 19.53124, 20.97537, 22.76843], \"lon\": [-102.28259279999999, -115.4544601, -110.3005, -90.5255432, -106.08889009999999, -93.11308290000001, -101.0053024, -103.72714, -104.6575623, -101.2591, -99.50578, -99.1276627, -98.73329, -103.39182, -99.65324, -101.18443, -99.23075, -104.89568999999999, -100.31846999999999, -96.72365, -98.20193, -100.38806149999999, -88.30381, -100.97916, -107.38781999999999, -110.97731999999999, -92.93028000000001, -99.14599, -98.19981999999999, -96.91589, -89.61695999999999, -102.58140999999999], \"marker\": {\"color\": \"rgb(255,0,0)\", \"line\": {\"color\": \"rgba(68,68,0)\", \"width\": 3}, \"size\": 2}, \"mode\": \"markers\", \"text\": [\"aguascalientes\", \"mexicalli\", \"lapaz\", \"campeche\", \"chihuahua\", \"tuxtlaGtz\", \"Saltillo\", \"colima\", \"victoriaDurango\", \"guanajuato\", \"chilpancingo\", \"cdmx\", \"pachuca\", \"guadalajara\", \"toluca\", \"morelia\", \"cuernavaca\", \"tepic\", \"monterrey\", \"oaxaca\", \"puebla\", \"queretaro\", \"chetumal\", \"Sanluis\", \"culiacan\", \"hermosillo\", \"villahermosa\", \"cuidadvictoria\", \"tlaxcala\", \"xalapa\", \"merida\", \"zacatecas\"], \"type\": \"scattergeo\"}],\n",
              "                        {\"template\": {\"data\": {\"bar\": [{\"error_x\": {\"color\": \"#2a3f5f\"}, \"error_y\": {\"color\": \"#2a3f5f\"}, \"marker\": {\"line\": {\"color\": \"#E5ECF6\", \"width\": 0.5}}, \"type\": \"bar\"}], \"barpolar\": [{\"marker\": {\"line\": {\"color\": \"#E5ECF6\", \"width\": 0.5}}, \"type\": \"barpolar\"}], \"carpet\": [{\"aaxis\": {\"endlinecolor\": \"#2a3f5f\", \"gridcolor\": \"white\", \"linecolor\": \"white\", \"minorgridcolor\": \"white\", \"startlinecolor\": \"#2a3f5f\"}, \"baxis\": {\"endlinecolor\": \"#2a3f5f\", \"gridcolor\": \"white\", \"linecolor\": \"white\", \"minorgridcolor\": \"white\", \"startlinecolor\": \"#2a3f5f\"}, \"type\": \"carpet\"}], \"choropleth\": [{\"colorbar\": {\"outlinewidth\": 0, \"ticks\": \"\"}, \"type\": \"choropleth\"}], \"contour\": [{\"colorbar\": {\"outlinewidth\": 0, \"ticks\": \"\"}, \"colorscale\": [[0.0, \"#0d0887\"], [0.1111111111111111, \"#46039f\"], [0.2222222222222222, \"#7201a8\"], [0.3333333333333333, \"#9c179e\"], [0.4444444444444444, \"#bd3786\"], [0.5555555555555556, \"#d8576b\"], [0.6666666666666666, \"#ed7953\"], [0.7777777777777778, \"#fb9f3a\"], [0.8888888888888888, \"#fdca26\"], [1.0, \"#f0f921\"]], \"type\": \"contour\"}], \"contourcarpet\": [{\"colorbar\": {\"outlinewidth\": 0, \"ticks\": \"\"}, \"type\": \"contourcarpet\"}], \"heatmap\": [{\"colorbar\": {\"outlinewidth\": 0, \"ticks\": \"\"}, \"colorscale\": [[0.0, \"#0d0887\"], [0.1111111111111111, \"#46039f\"], [0.2222222222222222, \"#7201a8\"], [0.3333333333333333, \"#9c179e\"], [0.4444444444444444, \"#bd3786\"], [0.5555555555555556, \"#d8576b\"], [0.6666666666666666, \"#ed7953\"], [0.7777777777777778, \"#fb9f3a\"], [0.8888888888888888, \"#fdca26\"], [1.0, \"#f0f921\"]], \"type\": \"heatmap\"}], \"heatmapgl\": [{\"colorbar\": {\"outlinewidth\": 0, \"ticks\": \"\"}, \"colorscale\": [[0.0, \"#0d0887\"], [0.1111111111111111, \"#46039f\"], [0.2222222222222222, \"#7201a8\"], [0.3333333333333333, \"#9c179e\"], [0.4444444444444444, \"#bd3786\"], [0.5555555555555556, \"#d8576b\"], [0.6666666666666666, \"#ed7953\"], [0.7777777777777778, \"#fb9f3a\"], [0.8888888888888888, \"#fdca26\"], [1.0, \"#f0f921\"]], \"type\": \"heatmapgl\"}], \"histogram\": [{\"marker\": {\"colorbar\": {\"outlinewidth\": 0, \"ticks\": \"\"}}, \"type\": \"histogram\"}], \"histogram2d\": [{\"colorbar\": {\"outlinewidth\": 0, \"ticks\": \"\"}, \"colorscale\": [[0.0, \"#0d0887\"], [0.1111111111111111, \"#46039f\"], [0.2222222222222222, \"#7201a8\"], [0.3333333333333333, \"#9c179e\"], [0.4444444444444444, \"#bd3786\"], [0.5555555555555556, \"#d8576b\"], [0.6666666666666666, \"#ed7953\"], [0.7777777777777778, \"#fb9f3a\"], [0.8888888888888888, \"#fdca26\"], [1.0, \"#f0f921\"]], \"type\": \"histogram2d\"}], \"histogram2dcontour\": [{\"colorbar\": {\"outlinewidth\": 0, \"ticks\": \"\"}, \"colorscale\": [[0.0, \"#0d0887\"], [0.1111111111111111, \"#46039f\"], [0.2222222222222222, \"#7201a8\"], [0.3333333333333333, \"#9c179e\"], [0.4444444444444444, \"#bd3786\"], [0.5555555555555556, \"#d8576b\"], [0.6666666666666666, \"#ed7953\"], [0.7777777777777778, \"#fb9f3a\"], [0.8888888888888888, \"#fdca26\"], [1.0, \"#f0f921\"]], \"type\": \"histogram2dcontour\"}], \"mesh3d\": [{\"colorbar\": {\"outlinewidth\": 0, \"ticks\": \"\"}, \"type\": \"mesh3d\"}], \"parcoords\": [{\"line\": {\"colorbar\": {\"outlinewidth\": 0, \"ticks\": \"\"}}, \"type\": \"parcoords\"}], \"pie\": [{\"automargin\": true, \"type\": \"pie\"}], \"scatter\": [{\"marker\": {\"colorbar\": {\"outlinewidth\": 0, \"ticks\": \"\"}}, \"type\": \"scatter\"}], \"scatter3d\": [{\"line\": {\"colorbar\": {\"outlinewidth\": 0, \"ticks\": \"\"}}, \"marker\": {\"colorbar\": {\"outlinewidth\": 0, \"ticks\": \"\"}}, \"type\": \"scatter3d\"}], \"scattercarpet\": [{\"marker\": {\"colorbar\": {\"outlinewidth\": 0, \"ticks\": \"\"}}, \"type\": \"scattercarpet\"}], \"scattergeo\": [{\"marker\": {\"colorbar\": {\"outlinewidth\": 0, \"ticks\": \"\"}}, \"type\": \"scattergeo\"}], \"scattergl\": [{\"marker\": {\"colorbar\": {\"outlinewidth\": 0, \"ticks\": \"\"}}, \"type\": \"scattergl\"}], \"scattermapbox\": [{\"marker\": {\"colorbar\": {\"outlinewidth\": 0, \"ticks\": \"\"}}, \"type\": \"scattermapbox\"}], \"scatterpolar\": [{\"marker\": {\"colorbar\": {\"outlinewidth\": 0, \"ticks\": \"\"}}, \"type\": \"scatterpolar\"}], \"scatterpolargl\": [{\"marker\": {\"colorbar\": {\"outlinewidth\": 0, \"ticks\": \"\"}}, \"type\": \"scatterpolargl\"}], \"scatterternary\": [{\"marker\": {\"colorbar\": {\"outlinewidth\": 0, \"ticks\": \"\"}}, \"type\": \"scatterternary\"}], \"surface\": [{\"colorbar\": {\"outlinewidth\": 0, \"ticks\": \"\"}, \"colorscale\": [[0.0, \"#0d0887\"], [0.1111111111111111, \"#46039f\"], [0.2222222222222222, \"#7201a8\"], [0.3333333333333333, \"#9c179e\"], [0.4444444444444444, \"#bd3786\"], [0.5555555555555556, \"#d8576b\"], [0.6666666666666666, \"#ed7953\"], [0.7777777777777778, \"#fb9f3a\"], [0.8888888888888888, \"#fdca26\"], [1.0, \"#f0f921\"]], \"type\": \"surface\"}], \"table\": [{\"cells\": {\"fill\": {\"color\": \"#EBF0F8\"}, \"line\": {\"color\": \"white\"}}, \"header\": {\"fill\": {\"color\": \"#C8D4E3\"}, \"line\": {\"color\": \"white\"}}, \"type\": \"table\"}]}, \"layout\": {\"annotationdefaults\": {\"arrowcolor\": \"#2a3f5f\", \"arrowhead\": 0, \"arrowwidth\": 1}, \"coloraxis\": {\"colorbar\": {\"outlinewidth\": 0, \"ticks\": \"\"}}, \"colorscale\": {\"diverging\": [[0, \"#8e0152\"], [0.1, \"#c51b7d\"], [0.2, \"#de77ae\"], [0.3, \"#f1b6da\"], [0.4, \"#fde0ef\"], [0.5, \"#f7f7f7\"], [0.6, \"#e6f5d0\"], [0.7, \"#b8e186\"], [0.8, \"#7fbc41\"], [0.9, \"#4d9221\"], [1, \"#276419\"]], \"sequential\": [[0.0, \"#0d0887\"], [0.1111111111111111, \"#46039f\"], [0.2222222222222222, \"#7201a8\"], [0.3333333333333333, \"#9c179e\"], [0.4444444444444444, \"#bd3786\"], [0.5555555555555556, \"#d8576b\"], [0.6666666666666666, \"#ed7953\"], [0.7777777777777778, \"#fb9f3a\"], [0.8888888888888888, \"#fdca26\"], [1.0, \"#f0f921\"]], \"sequentialminus\": [[0.0, \"#0d0887\"], [0.1111111111111111, \"#46039f\"], [0.2222222222222222, \"#7201a8\"], [0.3333333333333333, \"#9c179e\"], [0.4444444444444444, \"#bd3786\"], [0.5555555555555556, \"#d8576b\"], [0.6666666666666666, \"#ed7953\"], [0.7777777777777778, \"#fb9f3a\"], [0.8888888888888888, \"#fdca26\"], [1.0, \"#f0f921\"]]}, \"colorway\": [\"#636efa\", \"#EF553B\", \"#00cc96\", \"#ab63fa\", \"#FFA15A\", \"#19d3f3\", \"#FF6692\", \"#B6E880\", \"#FF97FF\", \"#FECB52\"], \"font\": {\"color\": \"#2a3f5f\"}, \"geo\": {\"bgcolor\": \"white\", \"lakecolor\": \"white\", \"landcolor\": \"#E5ECF6\", \"showlakes\": true, \"showland\": true, \"subunitcolor\": \"white\"}, \"hoverlabel\": {\"align\": \"left\"}, \"hovermode\": \"closest\", \"mapbox\": {\"style\": \"light\"}, \"paper_bgcolor\": \"white\", \"plot_bgcolor\": \"#E5ECF6\", \"polar\": {\"angularaxis\": {\"gridcolor\": \"white\", \"linecolor\": \"white\", \"ticks\": \"\"}, \"bgcolor\": \"#E5ECF6\", \"radialaxis\": {\"gridcolor\": \"white\", \"linecolor\": \"white\", \"ticks\": \"\"}}, \"scene\": {\"xaxis\": {\"backgroundcolor\": \"#E5ECF6\", \"gridcolor\": \"white\", \"gridwidth\": 2, \"linecolor\": \"white\", \"showbackground\": true, \"ticks\": \"\", \"zerolinecolor\": \"white\"}, \"yaxis\": {\"backgroundcolor\": \"#E5ECF6\", \"gridcolor\": \"white\", \"gridwidth\": 2, \"linecolor\": \"white\", \"showbackground\": true, \"ticks\": \"\", \"zerolinecolor\": \"white\"}, \"zaxis\": {\"backgroundcolor\": \"#E5ECF6\", \"gridcolor\": \"white\", \"gridwidth\": 2, \"linecolor\": \"white\", \"showbackground\": true, \"ticks\": \"\", \"zerolinecolor\": \"white\"}}, \"shapedefaults\": {\"line\": {\"color\": \"#2a3f5f\"}}, \"ternary\": {\"aaxis\": {\"gridcolor\": \"white\", \"linecolor\": \"white\", \"ticks\": \"\"}, \"baxis\": {\"gridcolor\": \"white\", \"linecolor\": \"white\", \"ticks\": \"\"}, \"bgcolor\": \"#E5ECF6\", \"caxis\": {\"gridcolor\": \"white\", \"linecolor\": \"white\", \"ticks\": \"\"}}, \"title\": {\"x\": 0.05}, \"xaxis\": {\"automargin\": true, \"gridcolor\": \"white\", \"linecolor\": \"white\", \"ticks\": \"\", \"title\": {\"standoff\": 15}, \"zerolinecolor\": \"white\", \"zerolinewidth\": 2}, \"yaxis\": {\"automargin\": true, \"gridcolor\": \"white\", \"linecolor\": \"white\", \"ticks\": \"\", \"title\": {\"standoff\": 15}, \"zerolinecolor\": \"white\", \"zerolinewidth\": 2}}}},\n",
              "                        {\"responsive\": true}\n",
              "                    ).then(function(){\n",
              "                            \n",
              "var gd = document.getElementById('18d20070-bd52-4357-9b7c-5a640293406f');\n",
              "var x = new MutationObserver(function (mutations, observer) {{\n",
              "        var display = window.getComputedStyle(gd).display;\n",
              "        if (!display || display === 'none') {{\n",
              "            console.log([gd, 'removed!']);\n",
              "            Plotly.purge(gd);\n",
              "            observer.disconnect();\n",
              "        }}\n",
              "}});\n",
              "\n",
              "// Listen for the removal of the full notebook cells\n",
              "var notebookContainer = gd.closest('#notebook-container');\n",
              "if (notebookContainer) {{\n",
              "    x.observe(notebookContainer, {childList: true});\n",
              "}}\n",
              "\n",
              "// Listen for the clearing of the current output cell\n",
              "var outputEl = gd.closest('.output');\n",
              "if (outputEl) {{\n",
              "    x.observe(outputEl, {childList: true});\n",
              "}}\n",
              "\n",
              "                        })\n",
              "                };\n",
              "                \n",
              "            </script>\n",
              "        </div>\n",
              "</body>\n",
              "</html>"
            ]
          },
          "metadata": {
            "tags": []
          }
        }
      ]
    }
  ]
}